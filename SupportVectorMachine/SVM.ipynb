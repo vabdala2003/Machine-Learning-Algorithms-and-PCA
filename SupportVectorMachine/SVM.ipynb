{
 "cells": [
  {
   "cell_type": "markdown",
   "metadata": {},
   "source": [
    "# IMPORTS"
   ]
  },
  {
   "cell_type": "code",
   "execution_count": 34,
   "metadata": {},
   "outputs": [],
   "source": [
    "import pandas as pd\n",
    "import matplotlib.pyplot as plt\n",
    "import seaborn as sns\n",
    "\n",
    "from sklearn.model_selection import train_test_split\n",
    "from sklearn.svm import SVC\n",
    "from sklearn.preprocessing import StandardScaler, LabelEncoder\n",
    "from sklearn.metrics import confusion_matrix, classification_report, matthews_corrcoef"
   ]
  },
  {
   "cell_type": "markdown",
   "metadata": {},
   "source": [
    "# PREPROCESSING\n",
    "Importing dataset"
   ]
  },
  {
   "cell_type": "code",
   "execution_count": 35,
   "metadata": {},
   "outputs": [],
   "source": [
    "letterdf = pd.read_csv('letter-recognition.csv')"
   ]
  },
  {
   "cell_type": "markdown",
   "metadata": {},
   "source": [
    "Checking head"
   ]
  },
  {
   "cell_type": "code",
   "execution_count": 36,
   "metadata": {},
   "outputs": [
    {
     "name": "stdout",
     "output_type": "stream",
     "text": [
      "  letter  xbox   ybox   width   height  onpix   xbar   ybar   x2bar  y2bar   \\\n",
      "0      T      2      8       3       5       1      8     13      0       6   \n",
      "1      I      5     12       3       7       2     10      5      5       4   \n",
      "2      D      4     11       6       8       6     10      6      2       6   \n",
      "3      N      7     11       6       6       3      5      9      4       6   \n",
      "4      G      2      1       3       1       1      8      6      6       6   \n",
      "5      S      4     11       5       8       3      8      8      6       9   \n",
      "6      B      4      2       5       4       4      8      7      6       6   \n",
      "7      A      1      1       3       2       1      8      2      2       2   \n",
      "8      J      2      2       4       4       2     10      6      2       6   \n",
      "9      M     11     15      13       9       7     13      2      6       2   \n",
      "\n",
      "   xybar   x2ybar  xy2bar  xedge   xedgey  yedge   yedgex  \n",
      "0       6      10       8       0       8       0       8  \n",
      "1      13       3       9       2       8       4      10  \n",
      "2      10       3       7       3       7       3       9  \n",
      "3       4       4      10       6      10       2       8  \n",
      "4       6       5       9       1       7       5      10  \n",
      "5       5       6       6       0       8       9       7  \n",
      "6       7       6       6       2       8       7      10  \n",
      "7       8       2       8       1       6       2       7  \n",
      "8      12       4       8       1       6       1       7  \n",
      "9      12       1       9       8       1       1       8  \n"
     ]
    }
   ],
   "source": [
    "print(letterdf.head(10))"
   ]
  },
  {
   "cell_type": "markdown",
   "metadata": {},
   "source": [
    "Checking null values"
   ]
  },
  {
   "cell_type": "code",
   "execution_count": 37,
   "metadata": {},
   "outputs": [
    {
     "data": {
      "text/plain": [
       "letter    0\n",
       "xbox      0\n",
       "ybox      0\n",
       "width     0\n",
       "height    0\n",
       "onpix     0\n",
       "xbar      0\n",
       "ybar      0\n",
       "x2bar     0\n",
       "y2bar     0\n",
       "xybar     0\n",
       "x2ybar    0\n",
       "xy2bar    0\n",
       "xedge     0\n",
       "xedgey    0\n",
       "yedge     0\n",
       "yedgex    0\n",
       "dtype: int64"
      ]
     },
     "execution_count": 37,
     "metadata": {},
     "output_type": "execute_result"
    }
   ],
   "source": [
    "letterdf.isna().sum()"
   ]
  },
  {
   "cell_type": "markdown",
   "metadata": {},
   "source": [
    "Handling categorical data"
   ]
  },
  {
   "cell_type": "code",
   "execution_count": 38,
   "metadata": {},
   "outputs": [],
   "source": [
    "encoder = LabelEncoder()\n",
    "encoded_data = encoder.fit_transform(letterdf['letter'])\n",
    "letterdf['letter'] = encoded_data"
   ]
  },
  {
   "cell_type": "markdown",
   "metadata": {},
   "source": [
    "# AI\n",
    "Checking shape"
   ]
  },
  {
   "cell_type": "code",
   "execution_count": 39,
   "metadata": {},
   "outputs": [
    {
     "data": {
      "text/plain": [
       "(20000, 17)"
      ]
     },
     "execution_count": 39,
     "metadata": {},
     "output_type": "execute_result"
    }
   ],
   "source": [
    "letterdf.shape"
   ]
  },
  {
   "cell_type": "markdown",
   "metadata": {},
   "source": [
    "Data separation"
   ]
  },
  {
   "cell_type": "code",
   "execution_count": 40,
   "metadata": {},
   "outputs": [],
   "source": [
    "X = letterdf.drop('letter', axis=1)\n",
    "y = letterdf.letter"
   ]
  },
  {
   "cell_type": "code",
   "execution_count": 41,
   "metadata": {},
   "outputs": [],
   "source": [
    "X_train, X_test, y_train, y_test = train_test_split(X, y, test_size=0.33, random_state=42)"
   ]
  },
  {
   "cell_type": "code",
   "execution_count": 42,
   "metadata": {},
   "outputs": [],
   "source": [
    "svm_classifier = SVC(kernel='rbf')"
   ]
  },
  {
   "cell_type": "code",
   "execution_count": 43,
   "metadata": {},
   "outputs": [
    {
     "data": {
      "text/html": [
       "<style>#sk-container-id-2 {color: black;}#sk-container-id-2 pre{padding: 0;}#sk-container-id-2 div.sk-toggleable {background-color: white;}#sk-container-id-2 label.sk-toggleable__label {cursor: pointer;display: block;width: 100%;margin-bottom: 0;padding: 0.3em;box-sizing: border-box;text-align: center;}#sk-container-id-2 label.sk-toggleable__label-arrow:before {content: \"▸\";float: left;margin-right: 0.25em;color: #696969;}#sk-container-id-2 label.sk-toggleable__label-arrow:hover:before {color: black;}#sk-container-id-2 div.sk-estimator:hover label.sk-toggleable__label-arrow:before {color: black;}#sk-container-id-2 div.sk-toggleable__content {max-height: 0;max-width: 0;overflow: hidden;text-align: left;background-color: #f0f8ff;}#sk-container-id-2 div.sk-toggleable__content pre {margin: 0.2em;color: black;border-radius: 0.25em;background-color: #f0f8ff;}#sk-container-id-2 input.sk-toggleable__control:checked~div.sk-toggleable__content {max-height: 200px;max-width: 100%;overflow: auto;}#sk-container-id-2 input.sk-toggleable__control:checked~label.sk-toggleable__label-arrow:before {content: \"▾\";}#sk-container-id-2 div.sk-estimator input.sk-toggleable__control:checked~label.sk-toggleable__label {background-color: #d4ebff;}#sk-container-id-2 div.sk-label input.sk-toggleable__control:checked~label.sk-toggleable__label {background-color: #d4ebff;}#sk-container-id-2 input.sk-hidden--visually {border: 0;clip: rect(1px 1px 1px 1px);clip: rect(1px, 1px, 1px, 1px);height: 1px;margin: -1px;overflow: hidden;padding: 0;position: absolute;width: 1px;}#sk-container-id-2 div.sk-estimator {font-family: monospace;background-color: #f0f8ff;border: 1px dotted black;border-radius: 0.25em;box-sizing: border-box;margin-bottom: 0.5em;}#sk-container-id-2 div.sk-estimator:hover {background-color: #d4ebff;}#sk-container-id-2 div.sk-parallel-item::after {content: \"\";width: 100%;border-bottom: 1px solid gray;flex-grow: 1;}#sk-container-id-2 div.sk-label:hover label.sk-toggleable__label {background-color: #d4ebff;}#sk-container-id-2 div.sk-serial::before {content: \"\";position: absolute;border-left: 1px solid gray;box-sizing: border-box;top: 0;bottom: 0;left: 50%;z-index: 0;}#sk-container-id-2 div.sk-serial {display: flex;flex-direction: column;align-items: center;background-color: white;padding-right: 0.2em;padding-left: 0.2em;position: relative;}#sk-container-id-2 div.sk-item {position: relative;z-index: 1;}#sk-container-id-2 div.sk-parallel {display: flex;align-items: stretch;justify-content: center;background-color: white;position: relative;}#sk-container-id-2 div.sk-item::before, #sk-container-id-2 div.sk-parallel-item::before {content: \"\";position: absolute;border-left: 1px solid gray;box-sizing: border-box;top: 0;bottom: 0;left: 50%;z-index: -1;}#sk-container-id-2 div.sk-parallel-item {display: flex;flex-direction: column;z-index: 1;position: relative;background-color: white;}#sk-container-id-2 div.sk-parallel-item:first-child::after {align-self: flex-end;width: 50%;}#sk-container-id-2 div.sk-parallel-item:last-child::after {align-self: flex-start;width: 50%;}#sk-container-id-2 div.sk-parallel-item:only-child::after {width: 0;}#sk-container-id-2 div.sk-dashed-wrapped {border: 1px dashed gray;margin: 0 0.4em 0.5em 0.4em;box-sizing: border-box;padding-bottom: 0.4em;background-color: white;}#sk-container-id-2 div.sk-label label {font-family: monospace;font-weight: bold;display: inline-block;line-height: 1.2em;}#sk-container-id-2 div.sk-label-container {text-align: center;}#sk-container-id-2 div.sk-container {/* jupyter's `normalize.less` sets `[hidden] { display: none; }` but bootstrap.min.css set `[hidden] { display: none !important; }` so we also need the `!important` here to be able to override the default hidden behavior on the sphinx rendered scikit-learn.org. See: https://github.com/scikit-learn/scikit-learn/issues/21755 */display: inline-block !important;position: relative;}#sk-container-id-2 div.sk-text-repr-fallback {display: none;}</style><div id=\"sk-container-id-2\" class=\"sk-top-container\"><div class=\"sk-text-repr-fallback\"><pre>SVC()</pre><b>In a Jupyter environment, please rerun this cell to show the HTML representation or trust the notebook. <br />On GitHub, the HTML representation is unable to render, please try loading this page with nbviewer.org.</b></div><div class=\"sk-container\" hidden><div class=\"sk-item\"><div class=\"sk-estimator sk-toggleable\"><input class=\"sk-toggleable__control sk-hidden--visually\" id=\"sk-estimator-id-2\" type=\"checkbox\" checked><label for=\"sk-estimator-id-2\" class=\"sk-toggleable__label sk-toggleable__label-arrow\">SVC</label><div class=\"sk-toggleable__content\"><pre>SVC()</pre></div></div></div></div></div>"
      ],
      "text/plain": [
       "SVC()"
      ]
     },
     "execution_count": 43,
     "metadata": {},
     "output_type": "execute_result"
    }
   ],
   "source": [
    "svm_classifier.fit(X_train, y_train)"
   ]
  },
  {
   "cell_type": "code",
   "execution_count": 44,
   "metadata": {},
   "outputs": [],
   "source": [
    "predictions = svm_classifier.predict(X_test)"
   ]
  },
  {
   "cell_type": "code",
   "execution_count": 45,
   "metadata": {},
   "outputs": [
    {
     "name": "stdout",
     "output_type": "stream",
     "text": [
      "Confusion Matrix:\n",
      "[[257   0   2   0   0   0   1   0   0   0   1   0   2   0   0   0   0   0\n",
      "    0   0   1   0   0   0   0   0]\n",
      " [  1 239   0   5   0   1   0   0   0   0   0   0   0   0   0   0   0   7\n",
      "    0   0   0   0   0   0   0   0]\n",
      " [  0   0 186   0   6   0   6   1   0   0   1   0   1   0   8   0   0   1\n",
      "    0   0   2   0   1   0   0   0]\n",
      " [  0   5   0 269   0   0   0   3   0   0   0   0   0   2   2   0   0   1\n",
      "    0   0   0   0   0   0   0   0]\n",
      " [  0   1   2   0 235   0  10   0   0   0   1   0   0   0   0   0   2   0\n",
      "    0   0   0   0   0   1   0   5]\n",
      " [  0   2   0   0   1 220   0   0   1   1   0   0   0   0   0   0   0   0\n",
      "    2   5   0   0   0   0   0   0]\n",
      " [  1   1   1   5   0   2 225   0   0   0   2   0   0   0   1   0   3   2\n",
      "    0   0   0   2   0   0   0   0]\n",
      " [  0   8   0  12   0   0   4 166   0   0   6   0   0   2   6   2   6  21\n",
      "    0   0   3   0   0   0   2   0]\n",
      " [  0   1   1   2   0   4   0   0 212  12   0   0   0   0   0   0   0   0\n",
      "    4   0   0   0   0   2   0   1]\n",
      " [  3   0   0   3   1   2   0   2   3 219   0   0   0   1   3   0   0   0\n",
      "    3   0   0   0   0   3   0   2]\n",
      " [  0   0   2   2   1   0   0   1   0   0 174   0   0   0   0   0   0  19\n",
      "    0   0   0   0   0   4   0   0]\n",
      " [  0   1   2   0   7   0   5   0   0   0   0 228   0   0   1   0   1   1\n",
      "    2   0   0   0   0   0   0   0]\n",
      " [  0   2   0   0   0   0   1   1   0   0   0   0 267   0   0   0   0   3\n",
      "    0   0   0   0   0   0   0   0]\n",
      " [  2   3   0   3   0   0   0   0   0   0   0   0   4 231   6   0   0   4\n",
      "    0   0   0   0   1   0   0   0]\n",
      " [  0   0   0   5   0   0   0   0   0   0   0   0   1   0 226   0   5   2\n",
      "    0   0   1   0   8   0   0   0]\n",
      " [  0   2   0   2   0  20  12   0   1   0   0   0   0   0   2 232   0   0\n",
      "    0   0   0   0   0   0   6   0]\n",
      " [  0   4   0   1   3   0   0   0   0   0   0   0   0   0   5   0 263   1\n",
      "    0   0   0   0   2   0   0   0]\n",
      " [  0   7   0   2   0   0   0   1   0   0   2   2   0   6   0   0   0 233\n",
      "    0   0   0   1   0   0   0   0]\n",
      " [  0   2   0   0   2   1   0   0   0   0   0   0   0   0   0   0   1   0\n",
      "  243   0   0   0   0   2   0   2]\n",
      " [  0   1   0   0   1   0   1   5   0   0   4   0   0   0   0   0   0   3\n",
      "    2 234   1   0   0   3   1   2]\n",
      " [  0   0   0   0   0   0   0   0   0   0   2   0   7   0   2   0   0   0\n",
      "    0   0 276   2   4   0   0   0]\n",
      " [  1   5   0   0   0   1   0   2   0   0   0   0   1   0   0   0   0   0\n",
      "    0   0   0 250   4   0   3   0]\n",
      " [  0   1   0   0   0   0   0   0   0   0   0   0   2   0   2   0   0   0\n",
      "    0   0   2   0 230   0   0   0]\n",
      " [  0   1   0   3   0   0   0   0   0   0   6   0   0   0   0   0   0   1\n",
      "    0   0   0   0   0 262   2   0]\n",
      " [  0   0   0   1   0   2   0   0   0   0   0   0   0   0   0   0   0   0\n",
      "    0   3   0   3   0   1 262   0]\n",
      " [  1   0   0   0   1   0   0   0   0   3   0   0   0   0   0   0   2   1\n",
      "   15   0   0   0   0   0   0 217]]\n"
     ]
    }
   ],
   "source": [
    "print('Confusion Matrix:')\n",
    "print(confusion_matrix(y_test, predictions))"
   ]
  },
  {
   "cell_type": "code",
   "execution_count": 46,
   "metadata": {},
   "outputs": [
    {
     "name": "stdout",
     "output_type": "stream",
     "text": [
      "Classification Report:\n",
      "              precision    recall  f1-score   support\n",
      "\n",
      "           0       0.97      0.97      0.97       264\n",
      "           1       0.84      0.94      0.89       253\n",
      "           2       0.95      0.87      0.91       213\n",
      "           3       0.85      0.95      0.90       282\n",
      "           4       0.91      0.91      0.91       257\n",
      "           5       0.87      0.95      0.91       232\n",
      "           6       0.85      0.92      0.88       245\n",
      "           7       0.91      0.70      0.79       238\n",
      "           8       0.98      0.89      0.93       239\n",
      "           9       0.93      0.89      0.91       245\n",
      "          10       0.87      0.86      0.87       203\n",
      "          11       0.99      0.92      0.95       248\n",
      "          12       0.94      0.97      0.96       274\n",
      "          13       0.95      0.91      0.93       254\n",
      "          14       0.86      0.91      0.88       248\n",
      "          15       0.99      0.84      0.91       277\n",
      "          16       0.93      0.94      0.94       279\n",
      "          17       0.78      0.92      0.84       254\n",
      "          18       0.90      0.96      0.93       253\n",
      "          19       0.97      0.91      0.94       258\n",
      "          20       0.97      0.94      0.95       293\n",
      "          21       0.97      0.94      0.95       267\n",
      "          22       0.92      0.97      0.94       237\n",
      "          23       0.94      0.95      0.95       275\n",
      "          24       0.95      0.96      0.96       272\n",
      "          25       0.95      0.90      0.93       240\n",
      "\n",
      "    accuracy                           0.92      6600\n",
      "   macro avg       0.92      0.92      0.92      6600\n",
      "weighted avg       0.92      0.92      0.92      6600\n",
      "\n"
     ]
    }
   ],
   "source": [
    "print('Classification Report:')\n",
    "print(classification_report(y_test, predictions))"
   ]
  },
  {
   "cell_type": "code",
   "execution_count": 47,
   "metadata": {},
   "outputs": [
    {
     "name": "stdout",
     "output_type": "stream",
     "text": [
      "Matthews Correlation Coefficient: 0.91\n"
     ]
    }
   ],
   "source": [
    "print(f'Matthews Correlation Coefficient: {matthews_corrcoef(y_test, predictions):.2f}')"
   ]
  }
 ],
 "metadata": {
  "kernelspec": {
   "display_name": "Python 3",
   "language": "python",
   "name": "python3"
  },
  "language_info": {
   "codemirror_mode": {
    "name": "ipython",
    "version": 3
   },
   "file_extension": ".py",
   "mimetype": "text/x-python",
   "name": "python",
   "nbconvert_exporter": "python",
   "pygments_lexer": "ipython3",
   "version": "3.11.3"
  }
 },
 "nbformat": 4,
 "nbformat_minor": 2
}
